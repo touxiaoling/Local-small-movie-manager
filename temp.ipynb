{
 "cells": [
  {
   "cell_type": "markdown",
   "metadata": {},
   "source": [
    "# 思路 #\n",
    "\n",
    "## 分类办法 ##\n",
    "计划分为两个类:  \n",
    "* 电影文件类:内部为具体的电影文件,涉及单个电影的各种控制方法,以及各种属性.  \n",
    "* 电影合集类:为一个电影集合的类,内部可能有多个电影文件,三种形式(文件夹内单个电影文件,文件夹内多个电影文件,单个电影文件)  \n",
    "    + 对于单个电影文件,类内方法退化为电影文件类 \n",
    "    + 文件夹内单个电影文件同理,退化为电影文件类\n",
    "    + 对于文件夹内多个电影文件类,这里需要综合一下,或者就先取第一个文件的成员属性  \n",
    "* 所有电影类:提供所有电影合集类的索引,以及一些综合管理的方法-->清除不包含电影的空文件夹之类的.\n",
    "或者其他表示方法重构:\n",
    "* 比如只有电影文件类,但是内部设置一个father成员指示分类-->之后扩展起来会不会很麻烦?但是现在实现起来会比较简单.\n",
    "\n",
    "## 后端存储方式 ##\n",
    "目前先使用pickle直接dump变量的方式进行存储\n",
    "* 每次存储需要复写一个整体\n",
    "* 继承时要对哪些继承目前没有明确判断,另外是继承层级的问题,继承应该是对单个电影文件来说的?或者提供一个单层级的索引.\n",
    "    * 需要继承的\n",
    "        * 可以通过 `hasattr()` 函数判断继承类中有无相应成员,无则初始化\n",
    "        * (统一在初始化的时候传入一个用于继承的成员,没有就传None,这样全都在`__init__`方法里生成了?(好像要修改一部分))\n",
    "    * 直接从文件信息中生成,不会手动更改的.`__init__`方法中直接生成`\n",
    "    * 需要通过继承成员和非继承成员综合生成的.\n",
    "\n",
    "后续考虑使用数据库进行存储-->`dump()` 以及`load()` 方法要重写,这里要先做好解耦.\n",
    "\n",
    "## 类基本成员和方法 ##\n",
    "MvFile  \n",
    "* `play()` 方法,播放相应电影,后续考虑支持多选(GUI)中实现,但目前问题是potplay的命令行支持不是太行,后面试试32位的是否没有bug,还是其他原因?  \n",
    "* `st_size` 成员 ,返回文件大小  \n",
    "* `st_mtime` 成员 ,返回文件修改时间.(考虑是否需要?文件名不变应该就不用考虑什么时候修改了,直接继承成员就完了.)  \n",
    "* `delfile()` 方法, 删除相应电影,后续实现,删除时要考虑子文件夹的问题.这里有bug.或者是加一个clear方法,需要加到一个更外部的类中.  \n",
    "\n",
    "MFile\n",
    "* `play()` 方法,播放合集电影,受potplayer限制目前先只播放首个\n",
    "* `st_size()` 方法,返回合集总大小(先不实现)\n",
    "* `st_mtime()` 成员,返回最新修改时间(先不实现)\n",
    "* `delfiles()` 方法,删除电影合集\n",
    "\n",
    "MManage\n",
    "* ''\n",
    "\n",
    "## 后续优化 ##\n",
    "因为搜索时间比较慢:(是否由自动刷新改为手动刷新,或者转为多线程后台解决)  \n",
    "* 这里希望后面采用方法二,体验会比较流畅,方法一比较简单,但后续改进空间太小  \n"
   ]
  },
  {
   "cell_type": "code",
   "execution_count": 13,
   "metadata": {},
   "outputs": [
    {
     "output_type": "execute_result",
     "data": {
      "text/plain": "True"
     },
     "metadata": {},
     "execution_count": 13
    }
   ],
   "source": [
    "hasattr(None,\"__dir__\")"
   ]
  },
  {
   "cell_type": "code",
   "execution_count": null,
   "metadata": {},
   "outputs": [],
   "source": []
  }
 ],
 "metadata": {
  "language_info": {
   "codemirror_mode": {
    "name": "ipython",
    "version": 3
   },
   "file_extension": ".py",
   "mimetype": "text/x-python",
   "name": "python",
   "nbconvert_exporter": "python",
   "pygments_lexer": "ipython3",
   "version": "3.7.7-final"
  },
  "orig_nbformat": 2,
  "kernelspec": {
   "name": "python3",
   "display_name": "Python 3"
  }
 },
 "nbformat": 4,
 "nbformat_minor": 2
}